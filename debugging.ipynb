{
 "cells": [
  {
   "cell_type": "code",
   "execution_count": 2,
   "metadata": {},
   "outputs": [],
   "source": [
    "import torch\n",
    "import torchvision\n",
    "from torchvision import datasets\n",
    "from torch.utils.data import DataLoader\n",
    "import pandas as pd"
   ]
  },
  {
   "cell_type": "code",
   "execution_count": 2,
   "metadata": {},
   "outputs": [
    {
     "data": {
      "text/plain": [
       "<torch._C.Generator at 0x11ab1ac50>"
      ]
     },
     "execution_count": 2,
     "metadata": {},
     "output_type": "execute_result"
    }
   ],
   "source": [
    "n_epochs = 3\n",
    "batch_size_train = 64\n",
    "batch_size_test = 1000\n",
    "learning_rate = 0.01\n",
    "momentum = 0.5\n",
    "log_interval = 10\n",
    "\n",
    "random_seed = 1\n",
    "torch.backends.cudnn.enabled = False\n",
    "torch.manual_seed(random_seed)"
   ]
  },
  {
   "cell_type": "code",
   "execution_count": 3,
   "metadata": {},
   "outputs": [],
   "source": [
    "\"\"\"\n",
    "1. Jyothi Vishnu Vardhan Kolla\n",
    "2. Vidya Ganesh\n",
    "\n",
    "Project-5: CS-5330-> Spring 2023.\n",
    "\"\"\"\n",
    "\n",
    "import torch\n",
    "import torchvision\n",
    "from torchvision import datasets\n",
    "\n",
    "\n",
    "data_transform = torchvision.transforms.Compose([\n",
    "    torchvision.transforms.ToTensor(),\n",
    "    torchvision.transforms.Normalize(\n",
    "    (0.1307, ), (0.3081,))\n",
    "])\n",
    "\n",
    "train_data = datasets.MNIST(\n",
    "    root=\"data\",\n",
    "    train=True,\n",
    "    download=True,\n",
    "    transform=data_transform,    \n",
    ")\n",
    "\n",
    "test_data = datasets.MNIST(\n",
    "    root=\"data\",\n",
    "    train=False,\n",
    "    download=True,\n",
    "    transform=data_transform\n",
    ")\n",
    "\n",
    "class_names = train_data.classes"
   ]
  },
  {
   "cell_type": "code",
   "execution_count": 4,
   "metadata": {},
   "outputs": [
    {
     "name": "stdout",
     "output_type": "stream",
     "text": [
      "['0 - zero', '1 - one', '2 - two', '3 - three', '4 - four', '5 - five', '6 - six', '7 - seven', '8 - eight', '9 - nine']\n"
     ]
    }
   ],
   "source": [
    "print(class_names)\n",
    "train_dataloader = DataLoader(train_data,\n",
    "                                batch_size=32,\n",
    "                                shuffle=True)\n",
    "\n",
    "test_dataloader = DataLoader(test_data,\n",
    "                            batch_size=32,\n",
    "                            shuffle=False)"
   ]
  },
  {
   "cell_type": "code",
   "execution_count": 5,
   "metadata": {},
   "outputs": [
    {
     "data": {
      "text/plain": [
       "<torch.utils.data.dataloader.DataLoader at 0x168b759d0>"
      ]
     },
     "execution_count": 5,
     "metadata": {},
     "output_type": "execute_result"
    }
   ],
   "source": [
    "train_dataloader"
   ]
  },
  {
   "cell_type": "code",
   "execution_count": 17,
   "metadata": {},
   "outputs": [],
   "source": [
    "import torch\n",
    "from torch import nn\n",
    "\n",
    "class LeNet(nn.Module):\n",
    "    def __init__(self):\n",
    "        super().__init__()\n",
    "        self.block_1 = nn.Sequential(\n",
    "            nn.Conv2d(\n",
    "            in_channels=1,\n",
    "            out_channels=10,\n",
    "            kernel_size=5),\n",
    "            nn.MaxPool2d(kernel_size=2),\n",
    "            nn.ReLU()\n",
    "        )\n",
    "\n",
    "        self.block_2 = nn.Sequential(\n",
    "            nn.Conv2d(\n",
    "            in_channels=10,\n",
    "            out_channels=20,\n",
    "            kernel_size=5,\n",
    "            ),\n",
    "            nn.Dropout2d(0.5),\n",
    "            nn.MaxPool2d(kernel_size=2),\n",
    "            nn.ReLU()\n",
    "        )\n",
    "\n",
    "        self.classifier = nn.Sequential(\n",
    "            nn.Flatten(),\n",
    "            nn.Linear(in_features=20 * 4 * 4, out_features=50),\n",
    "            nn.Linear(50, 10)\n",
    "        )\n",
    "\n",
    "    def forward(self, x: torch.Tensor):\n",
    "        x = self.block_1(x)\n",
    "        x = self.block_2(x)\n",
    "        x = self.classifier(x)\n",
    "\n",
    "        return nn.functional.log_softmax(x)\n",
    "\n",
    "    "
   ]
  },
  {
   "cell_type": "code",
   "execution_count": 18,
   "metadata": {},
   "outputs": [],
   "source": [
    "model = LeNet().to(device=\"mps\")"
   ]
  },
  {
   "cell_type": "code",
   "execution_count": 8,
   "metadata": {},
   "outputs": [
    {
     "name": "stdout",
     "output_type": "stream",
     "text": [
      "LeNet(\n",
      "  (block_1): Sequential(\n",
      "    (0): Conv2d(1, 10, kernel_size=(5, 5), stride=(1, 1))\n",
      "    (1): MaxPool2d(kernel_size=2, stride=2, padding=0, dilation=1, ceil_mode=False)\n",
      "    (2): ReLU()\n",
      "  )\n",
      "  (block_2): Sequential(\n",
      "    (0): Conv2d(10, 20, kernel_size=(5, 5), stride=(1, 1))\n",
      "    (1): Dropout2d(p=0.5, inplace=False)\n",
      "    (2): MaxPool2d(kernel_size=2, stride=2, padding=0, dilation=1, ceil_mode=False)\n",
      "    (3): ReLU()\n",
      "  )\n",
      "  (classifier): Sequential(\n",
      "    (0): Flatten(start_dim=1, end_dim=-1)\n",
      "    (1): Linear(in_features=320, out_features=50, bias=True)\n",
      "    (2): Linear(in_features=50, out_features=10, bias=True)\n",
      "  )\n",
      ")\n"
     ]
    }
   ],
   "source": [
    "print(model)"
   ]
  },
  {
   "cell_type": "code",
   "execution_count": 19,
   "metadata": {},
   "outputs": [],
   "source": [
    "# Setup loss and optimizer\n",
    "loss_fn = nn.CrossEntropyLoss()\n",
    "optimizer = torch.optim.SGD(params=model.parameters(), \n",
    "                             lr=0.1)"
   ]
  },
  {
   "cell_type": "code",
   "execution_count": 23,
   "metadata": {},
   "outputs": [
    {
     "name": "stderr",
     "output_type": "stream",
     "text": [
      "/var/folders/qt/lcy0bl5s105cq2bn6m_hhzlc0000gn/T/ipykernel_38918/408714485.py:38: UserWarning: Implicit dimension choice for log_softmax has been deprecated. Change the call to include dim=X as an argument.\n",
      "  return nn.functional.log_softmax(x)\n"
     ]
    },
    {
     "name": "stdout",
     "output_type": "stream",
     "text": [
      "Train loss: 0.13944 | Train accuracy: 95.83%\n",
      "Train loss: 0.11916 | Train accuracy: 96.48%\n",
      "Train loss: 0.10596 | Train accuracy: 96.84%\n",
      "Train loss: 0.10135 | Train accuracy: 96.96%\n",
      "Train loss: 0.10107 | Train accuracy: 97.02%\n"
     ]
    }
   ],
   "source": [
    "from helper_functions import accuracy_fn\n",
    "def train_step(model: torch.nn.Module,\n",
    "               data_loader: torch.utils.data.DataLoader,\n",
    "               loss_fn: torch.nn.Module,\n",
    "               optimizer: torch.optim.Optimizer,\n",
    "               accuracy_fn,\n",
    "               device: torch.device = \"mps\"):\n",
    "    train_loss, train_acc = 0, 0\n",
    "    for batch, (X, y) in enumerate(data_loader):\n",
    "        # Send data to GPU\n",
    "        X, y = X.to(device), y.to(device)\n",
    "\n",
    "        # 1. Forward pass\n",
    "        y_pred = model(X)\n",
    "        #print(y_pred)\n",
    "\n",
    "        # 2. Calculate loss\n",
    "        loss = loss_fn(y_pred, y)\n",
    "        train_loss += loss\n",
    "        train_acc += accuracy_fn(y_true=y,\n",
    "                                 y_pred=y_pred.argmax(dim=1)) # Go from logits -> pred labels\n",
    "\n",
    "        # 3. Optimizer zero grad\n",
    "        optimizer.zero_grad()\n",
    "\n",
    "        # 4. Loss backward\n",
    "        loss.backward()\n",
    "\n",
    "        # 5. Optimizer step\n",
    "        optimizer.step()\n",
    "\n",
    "    # Calculate loss and accuracy per epoch and print out what's happening\n",
    "    train_loss /= len(data_loader)\n",
    "    train_acc /= len(data_loader)\n",
    "    print(f\"Train loss: {train_loss:.5f} | Train accuracy: {train_acc:.2f}%\")\n",
    "\n",
    "for i in range(5):\n",
    "    train_step(model=model, data_loader=train_dataloader, loss_fn=loss_fn, optimizer=optimizer, accuracy_fn=accuracy_fn)"
   ]
  },
  {
   "cell_type": "code",
   "execution_count": 4,
   "metadata": {},
   "outputs": [
    {
     "data": {
      "text/html": [
       "<div>\n",
       "<style scoped>\n",
       "    .dataframe tbody tr th:only-of-type {\n",
       "        vertical-align: middle;\n",
       "    }\n",
       "\n",
       "    .dataframe tbody tr th {\n",
       "        vertical-align: top;\n",
       "    }\n",
       "\n",
       "    .dataframe thead th {\n",
       "        text-align: right;\n",
       "    }\n",
       "</style>\n",
       "<table border=\"1\" class=\"dataframe\">\n",
       "  <thead>\n",
       "    <tr style=\"text-align: right;\">\n",
       "      <th></th>\n",
       "      <th>train_loss</th>\n",
       "      <th>train_acc</th>\n",
       "      <th>test_loss</th>\n",
       "      <th>test_acc</th>\n",
       "    </tr>\n",
       "  </thead>\n",
       "  <tbody>\n",
       "    <tr>\n",
       "      <th>0</th>\n",
       "      <td>0.270549</td>\n",
       "      <td>91.666667</td>\n",
       "      <td>0.079666</td>\n",
       "      <td>97.54393</td>\n",
       "    </tr>\n",
       "  </tbody>\n",
       "</table>\n",
       "</div>"
      ],
      "text/plain": [
       "   train_loss  train_acc  test_loss  test_acc\n",
       "0    0.270549  91.666667   0.079666  97.54393"
      ]
     },
     "execution_count": 4,
     "metadata": {},
     "output_type": "execute_result"
    }
   ],
   "source": [
    "dict_ = {'train_loss': [0.27054864591360095], 'train_acc': [91.66666666666667], 'test_loss': [0.07966596637933386], 'test_acc': [97.54392971246007]}\n",
    "df = pd.DataFrame(dict_)\n",
    "df"
   ]
  },
  {
   "cell_type": "code",
   "execution_count": 6,
   "metadata": {},
   "outputs": [],
   "source": [
    "import os\n",
    "path = os.path.join(\"Models/results.csv\")\n",
    "df.to_csv(path)"
   ]
  },
  {
   "cell_type": "code",
   "execution_count": 20,
   "metadata": {},
   "outputs": [
    {
     "data": {
      "text/html": [
       "<div>\n",
       "<style scoped>\n",
       "    .dataframe tbody tr th:only-of-type {\n",
       "        vertical-align: middle;\n",
       "    }\n",
       "\n",
       "    .dataframe tbody tr th {\n",
       "        vertical-align: top;\n",
       "    }\n",
       "\n",
       "    .dataframe thead th {\n",
       "        text-align: right;\n",
       "    }\n",
       "</style>\n",
       "<table border=\"1\" class=\"dataframe\">\n",
       "  <thead>\n",
       "    <tr style=\"text-align: right;\">\n",
       "      <th></th>\n",
       "      <th>Unnamed: 0</th>\n",
       "      <th>train_loss</th>\n",
       "      <th>train_acc</th>\n",
       "      <th>test_loss</th>\n",
       "      <th>test_acc</th>\n",
       "    </tr>\n",
       "  </thead>\n",
       "  <tbody>\n",
       "    <tr>\n",
       "      <th>0</th>\n",
       "      <td>0</td>\n",
       "      <td>0.246825</td>\n",
       "      <td>92.501667</td>\n",
       "      <td>0.066225</td>\n",
       "      <td>97.753594</td>\n",
       "    </tr>\n",
       "    <tr>\n",
       "      <th>1</th>\n",
       "      <td>1</td>\n",
       "      <td>0.132994</td>\n",
       "      <td>96.013333</td>\n",
       "      <td>0.051816</td>\n",
       "      <td>98.342652</td>\n",
       "    </tr>\n",
       "    <tr>\n",
       "      <th>2</th>\n",
       "      <td>2</td>\n",
       "      <td>0.113442</td>\n",
       "      <td>96.655000</td>\n",
       "      <td>0.046505</td>\n",
       "      <td>98.492412</td>\n",
       "    </tr>\n",
       "    <tr>\n",
       "      <th>3</th>\n",
       "      <td>3</td>\n",
       "      <td>0.109930</td>\n",
       "      <td>96.701667</td>\n",
       "      <td>0.041878</td>\n",
       "      <td>98.722045</td>\n",
       "    </tr>\n",
       "    <tr>\n",
       "      <th>4</th>\n",
       "      <td>4</td>\n",
       "      <td>0.101617</td>\n",
       "      <td>96.945000</td>\n",
       "      <td>0.069096</td>\n",
       "      <td>97.743610</td>\n",
       "    </tr>\n",
       "  </tbody>\n",
       "</table>\n",
       "</div>"
      ],
      "text/plain": [
       "   Unnamed: 0  train_loss  train_acc  test_loss   test_acc\n",
       "0           0    0.246825  92.501667   0.066225  97.753594\n",
       "1           1    0.132994  96.013333   0.051816  98.342652\n",
       "2           2    0.113442  96.655000   0.046505  98.492412\n",
       "3           3    0.109930  96.701667   0.041878  98.722045\n",
       "4           4    0.101617  96.945000   0.069096  97.743610"
      ]
     },
     "execution_count": 20,
     "metadata": {},
     "output_type": "execute_result"
    }
   ],
   "source": [
    "df1 = pd.read_csv(\"Models/results.csv\")\n",
    "df1.head()"
   ]
  },
  {
   "cell_type": "code",
   "execution_count": 21,
   "metadata": {},
   "outputs": [
    {
     "data": {
      "text/html": [
       "<div>\n",
       "<style scoped>\n",
       "    .dataframe tbody tr th:only-of-type {\n",
       "        vertical-align: middle;\n",
       "    }\n",
       "\n",
       "    .dataframe tbody tr th {\n",
       "        vertical-align: top;\n",
       "    }\n",
       "\n",
       "    .dataframe thead th {\n",
       "        text-align: right;\n",
       "    }\n",
       "</style>\n",
       "<table border=\"1\" class=\"dataframe\">\n",
       "  <thead>\n",
       "    <tr style=\"text-align: right;\">\n",
       "      <th></th>\n",
       "      <th>train_loss</th>\n",
       "      <th>train_acc</th>\n",
       "      <th>test_loss</th>\n",
       "      <th>test_acc</th>\n",
       "    </tr>\n",
       "  </thead>\n",
       "  <tbody>\n",
       "    <tr>\n",
       "      <th>0</th>\n",
       "      <td>0.246825</td>\n",
       "      <td>92.501667</td>\n",
       "      <td>0.066225</td>\n",
       "      <td>97.753594</td>\n",
       "    </tr>\n",
       "    <tr>\n",
       "      <th>1</th>\n",
       "      <td>0.132994</td>\n",
       "      <td>96.013333</td>\n",
       "      <td>0.051816</td>\n",
       "      <td>98.342652</td>\n",
       "    </tr>\n",
       "    <tr>\n",
       "      <th>2</th>\n",
       "      <td>0.113442</td>\n",
       "      <td>96.655000</td>\n",
       "      <td>0.046505</td>\n",
       "      <td>98.492412</td>\n",
       "    </tr>\n",
       "    <tr>\n",
       "      <th>3</th>\n",
       "      <td>0.109930</td>\n",
       "      <td>96.701667</td>\n",
       "      <td>0.041878</td>\n",
       "      <td>98.722045</td>\n",
       "    </tr>\n",
       "    <tr>\n",
       "      <th>4</th>\n",
       "      <td>0.101617</td>\n",
       "      <td>96.945000</td>\n",
       "      <td>0.069096</td>\n",
       "      <td>97.743610</td>\n",
       "    </tr>\n",
       "  </tbody>\n",
       "</table>\n",
       "</div>"
      ],
      "text/plain": [
       "   train_loss  train_acc  test_loss   test_acc\n",
       "0    0.246825  92.501667   0.066225  97.753594\n",
       "1    0.132994  96.013333   0.051816  98.342652\n",
       "2    0.113442  96.655000   0.046505  98.492412\n",
       "3    0.109930  96.701667   0.041878  98.722045\n",
       "4    0.101617  96.945000   0.069096  97.743610"
      ]
     },
     "execution_count": 21,
     "metadata": {},
     "output_type": "execute_result"
    }
   ],
   "source": [
    "df1.drop(\"Unnamed: 0\", axis=1, inplace=True)\n",
    "df1"
   ]
  },
  {
   "cell_type": "code",
   "execution_count": 17,
   "metadata": {},
   "outputs": [
    {
     "ename": "NameError",
     "evalue": "name 'df1' is not defined",
     "output_type": "error",
     "traceback": [
      "\u001b[0;31m---------------------------------------------------------------------------\u001b[0m",
      "\u001b[0;31mNameError\u001b[0m                                 Traceback (most recent call last)",
      "Cell \u001b[0;32mIn[17], line 1\u001b[0m\n\u001b[0;32m----> 1\u001b[0m my_dict \u001b[39m=\u001b[39m df1\u001b[39m.\u001b[39mto_dict(\u001b[39m'\u001b[39m\u001b[39mlist\u001b[39m\u001b[39m'\u001b[39m)\n\u001b[1;32m      2\u001b[0m my_dict\n",
      "\u001b[0;31mNameError\u001b[0m: name 'df1' is not defined"
     ]
    }
   ],
   "source": [
    "my_dict = df1.to_dict('list')\n",
    "my_dict"
   ]
  },
  {
   "cell_type": "code",
   "execution_count": 31,
   "metadata": {},
   "outputs": [],
   "source": [
    "model_path = \"Models/base_model.pth\"\n",
    "from models import LeNet\n",
    "from dataloader import create_dataloaders\n",
    "\n",
    "state_dict = torch.load(model_path, map_location=torch.device('mps'))\n",
    "model = LeNet()\n",
    "model.load_state_dict(state_dict)\n",
    "\n",
    "train_data, test_data, class_names = create_dataloaders(32)\n"
   ]
  },
  {
   "cell_type": "code",
   "execution_count": 45,
   "metadata": {},
   "outputs": [],
   "source": [
    "image, labels = next(iter(test_data))"
   ]
  },
  {
   "cell_type": "code",
   "execution_count": 71,
   "metadata": {},
   "outputs": [
    {
     "name": "stdout",
     "output_type": "stream",
     "text": [
      "Prediction Probabilities are: tensor([[-2.38e+01, -2.25e+01, -2.00e+01, -1.73e+01, -3.27e+01, -2.52e+01,\n",
      "         -3.66e+01, -1.19e-07, -2.08e+01, -1.69e+01]])\n",
      "Original label:7, predicted label:tensor([7])\n",
      "--------------------------------------------------------------------------\n",
      "Prediction Probabilities are: tensor([[-5.95e+00, -5.88e+00, -8.33e-03, -1.13e+01, -1.55e+01, -1.85e+01,\n",
      "         -5.87e+00, -2.21e+01, -1.00e+01, -2.20e+01]])\n",
      "Original label:2, predicted label:tensor([2])\n",
      "--------------------------------------------------------------------------\n",
      "Prediction Probabilities are: tensor([[-1.28e+01, -6.61e-04, -1.12e+01, -1.38e+01, -7.65e+00, -1.14e+01,\n",
      "         -9.12e+00, -1.13e+01, -1.04e+01, -1.29e+01]])\n",
      "Original label:1, predicted label:tensor([1])\n",
      "--------------------------------------------------------------------------\n",
      "Prediction Probabilities are: tensor([[-7.40e-05, -1.89e+01, -1.15e+01, -1.66e+01, -2.13e+01, -1.51e+01,\n",
      "         -9.71e+00, -1.77e+01, -1.27e+01, -1.57e+01]])\n",
      "Original label:0, predicted label:tensor([0])\n",
      "--------------------------------------------------------------------------\n",
      "Prediction Probabilities are: tensor([[-2.05e+01, -1.64e+01, -1.63e+01, -2.13e+01, -4.63e-04, -1.64e+01,\n",
      "         -1.56e+01, -1.84e+01, -1.62e+01, -7.68e+00]])\n",
      "Original label:4, predicted label:tensor([4])\n",
      "--------------------------------------------------------------------------\n",
      "Prediction Probabilities are: tensor([[-1.50e+01, -1.56e-03, -1.28e+01, -1.65e+01, -6.49e+00, -1.49e+01,\n",
      "         -1.14e+01, -1.12e+01, -1.14e+01, -1.30e+01]])\n",
      "Original label:1, predicted label:tensor([1])\n",
      "--------------------------------------------------------------------------\n",
      "Prediction Probabilities are: tensor([[-2.70e+01, -1.40e+01, -1.84e+01, -1.94e+01, -1.66e-04, -1.13e+01,\n",
      "         -1.91e+01, -1.77e+01, -1.31e+01, -8.80e+00]])\n",
      "Original label:4, predicted label:tensor([4])\n",
      "--------------------------------------------------------------------------\n",
      "Prediction Probabilities are: tensor([[-2.43e+01, -1.79e+01, -1.94e+01, -1.73e+01, -7.93e+00, -1.10e+01,\n",
      "         -2.35e+01, -1.34e+01, -1.38e+01, -3.78e-04]])\n",
      "Original label:9, predicted label:tensor([9])\n",
      "--------------------------------------------------------------------------\n",
      "Prediction Probabilities are: tensor([[-1.68e+01, -2.24e+01, -2.04e+01, -1.73e+01, -1.78e+01, -3.40e-04,\n",
      "         -8.04e+00, -2.39e+01, -1.18e+01, -1.15e+01]])\n",
      "Original label:5, predicted label:tensor([5])\n",
      "--------------------------------------------------------------------------\n",
      "Prediction Probabilities are: tensor([[-2.59e+01, -2.40e+01, -2.21e+01, -1.70e+01, -1.05e+01, -1.12e+01,\n",
      "         -2.91e+01, -9.77e+00, -1.44e+01, -9.87e-05]])\n",
      "Original label:9, predicted label:tensor([9])\n",
      "--------------------------------------------------------------------------\n"
     ]
    },
    {
     "name": "stderr",
     "output_type": "stream",
     "text": [
      "/Users/jyothivishnuvardhankolla/Desktop/Project-5-DeepNetworks/models.py:52: UserWarning: Implicit dimension choice for log_softmax has been deprecated. Change the call to include dim=X as an argument.\n",
      "  return nn.functional.log_softmax(x)\n"
     ]
    }
   ],
   "source": [
    "torch.set_printoptions(precision=2)\n",
    "model.eval()\n",
    "pred_labels = []\n",
    "with torch.inference_mode():\n",
    "    for i in range(10):\n",
    "        img = image[i].unsqueeze(0)\n",
    "        label = labels[i]\n",
    "\n",
    "        prediction = model(img)\n",
    "        pred_labels.append(int(torch.argmax(prediction, dim=1)))\n",
    "        print(f\"Prediction Probabilities are: {prediction}\")\n",
    "        print(f\"Original label:{label}, predicted label:{torch.argmax(prediction, dim=1)}\")\n",
    "        print(\"--------------------------------------------------------------------------\")\n"
   ]
  },
  {
   "cell_type": "code",
   "execution_count": 83,
   "metadata": {},
   "outputs": [
    {
     "data": {
      "image/png": "[encoded data removed]",
      "text/plain": [
       "<Figure size 900x900 with 9 Axes>"
      ]
     },
     "metadata": {},
     "output_type": "display_data"
    }
   ],
   "source": [
    "# Plot the predictions.\n",
    "import matplotlib.pyplot as plt\n",
    "torch.manual_seed(42)\n",
    "fig = plt.figure(figsize=(9, 9))\n",
    "rows, cols = 3, 3\n",
    "\n",
    "for i in range(1, rows * cols + 1):\n",
    "    img, label = image[i], labels[i]\n",
    "    fig.add_subplot(rows, cols, i)\n",
    "    plt.imshow(img.squeeze(), cmap='gray')\n",
    "    plt.title(f\"Predicted:{class_names[pred_labels[i]]}\")\n",
    "    plt.axis('off')"
   ]
  },
  {
   "cell_type": "code",
   "execution_count": 3,
   "metadata": {},
   "outputs": [
    {
     "data": {
      "text/plain": [
       "<All keys matched successfully>"
      ]
     },
     "execution_count": 3,
     "metadata": {},
     "output_type": "execute_result"
    }
   ],
   "source": [
    "model_path = \"Models/base_model.pth\"\n",
    "from models import LeNet\n",
    "from dataloader import create_dataloaders\n",
    "\n",
    "state_dict = torch.load(model_path, map_location=torch.device('mps'))\n",
    "model = LeNet()\n",
    "model.load_state_dict(state_dict)"
   ]
  },
  {
   "cell_type": "code",
   "execution_count": 6,
   "metadata": {},
   "outputs": [
    {
     "name": "stdout",
     "output_type": "stream",
     "text": [
      "Layer Name: block_1.0.weight\n",
      "Layer Name: block_1.0.bias\n",
      "Layer Name: block_2.0.weight\n",
      "Layer Name: block_2.0.bias\n",
      "Layer Name: classifier.1.weight\n",
      "Layer Name: classifier.1.bias\n",
      "Layer Name: classifier.2.weight\n",
      "Layer Name: classifier.2.bias\n"
     ]
    }
   ],
   "source": [
    "for name, param in model.named_parameters():\n",
    "    print(f\"Layer Name: {name}\")\n",
    "    #print(f\"Layer weights: {param}\")"
   ]
  },
  {
   "cell_type": "code",
   "execution_count": 26,
   "metadata": {},
   "outputs": [
    {
     "name": "stdout",
     "output_type": "stream",
     "text": [
      "tensor([[-0.0696,  0.1216,  0.1264, -0.1283, -0.2596],\n",
      "        [ 0.0454, -0.1114, -0.3396, -0.2346, -0.4654],\n",
      "        [-0.1254, -0.1758, -0.1783, -0.1168, -0.0873],\n",
      "        [-0.1665, -0.1705, -0.0270,  0.0532,  0.3247],\n",
      "        [-0.4742, -0.1129, -0.0903,  0.2562,  0.3162]])\n"
     ]
    },
    {
     "data": {
      "image/png": "[encoded data removed]",
      "text/plain": [
       "<Figure size 800x800 with 10 Axes>"
      ]
     },
     "metadata": {},
     "output_type": "display_data"
    }
   ],
   "source": [
    "# Analyze the first layer.\n",
    "\n",
    "import matplotlib.pyplot as plt\n",
    "layer_name = \"block_1.0.weight\"\n",
    "layer_weights = model.state_dict()[layer_name]\n",
    "print(layer_weights[9][0])\n",
    "\n",
    "fig = plt.figure(figsize=(8, 8))\n",
    "rows,  cols = 3, 4\n",
    "for i in range(1, rows * cols - 1):\n",
    "    img = layer_weights[i - 1][0]\n",
    "    fig.add_subplot(rows, cols, i)\n",
    "    plt.imshow(img)\n",
    "    plt.title(f\"figure {i - 1}\")\n",
    "    plt.axis('off')\n",
    "\n",
    "plt.show()\n"
   ]
  },
  {
   "cell_type": "code",
   "execution_count": 49,
   "metadata": {},
   "outputs": [
    {
     "data": {
      "image/png": "[encoded data removed]",
      "text/plain": [
       "<Figure size 800x800 with 10 Axes>"
      ]
     },
     "metadata": {},
     "output_type": "display_data"
    }
   ],
   "source": [
    "# Show the effect of the filters.\n",
    "import cv2\n",
    "from dataloader import create_dataloaders\n",
    "train_data, test_data, class_names = create_dataloaders(32)\n",
    "\n",
    "image, lable = next(iter(train_data))\n",
    "image = image[0].numpy()\n",
    "\n",
    "fig = plt.figure(figsize=(8, 8))\n",
    "rows,  cols = 3, 4\n",
    "for i in range(len(layer_weights)):\n",
    "    kernel = layer_weights[i][0].numpy()\n",
    "    filter_img = cv2.filter2D(image[0], -1, kernel)\n",
    "    fig.add_subplot(rows, cols, i + 1)\n",
    "    plt.imshow(filter_img, cmap='gray')\n",
    "\n",
    "plt.show()"
   ]
  }
 ],
 "metadata": {
  "kernelspec": {
   "display_name": "torch-gpu",
   "language": "python",
   "name": "python3"
  },
  "language_info": {
   "codemirror_mode": {
    "name": "ipython",
    "version": 3
   },
   "file_extension": ".py",
   "mimetype": "text/x-python",
   "name": "python",
   "nbconvert_exporter": "python",
   "pygments_lexer": "ipython3",
   "version": "3.8.15"
  },
  "orig_nbformat": 4
 },
 "nbformat": 4,
 "nbformat_minor": 2
}
