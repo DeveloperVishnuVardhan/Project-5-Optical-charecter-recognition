{
 "cells": [
  {
   "cell_type": "code",
   "execution_count": 2,
   "metadata": {},
   "outputs": [],
   "source": [
    "import torch\n",
    "import torchvision\n",
    "from torchvision import datasets\n",
    "from torch.utils.data import DataLoader\n",
    "import pandas as pd"
   ]
  },
  {
   "cell_type": "code",
   "execution_count": 2,
   "metadata": {},
   "outputs": [
    {
     "data": {
      "text/plain": [
       "<torch._C.Generator at 0x11ab1ac50>"
      ]
     },
     "execution_count": 2,
     "metadata": {},
     "output_type": "execute_result"
    }
   ],
   "source": [
    "n_epochs = 3\n",
    "batch_size_train = 64\n",
    "batch_size_test = 1000\n",
    "learning_rate = 0.01\n",
    "momentum = 0.5\n",
    "log_interval = 10\n",
    "\n",
    "random_seed = 1\n",
    "torch.backends.cudnn.enabled = False\n",
    "torch.manual_seed(random_seed)"
   ]
  },
  {
   "cell_type": "code",
   "execution_count": 3,
   "metadata": {},
   "outputs": [],
   "source": [
    "\"\"\"\n",
    "1. Jyothi Vishnu Vardhan Kolla\n",
    "2. Vidya Ganesh\n",
    "\n",
    "Project-5: CS-5330-> Spring 2023.\n",
    "\"\"\"\n",
    "\n",
    "import torch\n",
    "import torchvision\n",
    "from torchvision import datasets\n",
    "\n",
    "\n",
    "data_transform = torchvision.transforms.Compose([\n",
    "    torchvision.transforms.ToTensor(),\n",
    "    torchvision.transforms.Normalize(\n",
    "    (0.1307, ), (0.3081,))\n",
    "])\n",
    "\n",
    "train_data = datasets.MNIST(\n",
    "    root=\"data\",\n",
    "    train=True,\n",
    "    download=True,\n",
    "    transform=data_transform,    \n",
    ")\n",
    "\n",
    "test_data = datasets.MNIST(\n",
    "    root=\"data\",\n",
    "    train=False,\n",
    "    download=True,\n",
    "    transform=data_transform\n",
    ")\n",
    "\n",
    "class_names = train_data.classes"
   ]
  },
  {
   "cell_type": "code",
   "execution_count": 4,
   "metadata": {},
   "outputs": [
    {
     "name": "stdout",
     "output_type": "stream",
     "text": [
      "['0 - zero', '1 - one', '2 - two', '3 - three', '4 - four', '5 - five', '6 - six', '7 - seven', '8 - eight', '9 - nine']\n"
     ]
    }
   ],
   "source": [
    "print(class_names)\n",
    "train_dataloader = DataLoader(train_data,\n",
    "                                batch_size=32,\n",
    "                                shuffle=True)\n",
    "\n",
    "test_dataloader = DataLoader(test_data,\n",
    "                            batch_size=32,\n",
    "                            shuffle=False)"
   ]
  },
  {
   "cell_type": "code",
   "execution_count": 5,
   "metadata": {},
   "outputs": [
    {
     "data": {
      "text/plain": [
       "<torch.utils.data.dataloader.DataLoader at 0x168b759d0>"
      ]
     },
     "execution_count": 5,
     "metadata": {},
     "output_type": "execute_result"
    }
   ],
   "source": [
    "train_dataloader"
   ]
  },
  {
   "cell_type": "code",
   "execution_count": 17,
   "metadata": {},
   "outputs": [],
   "source": [
    "import torch\n",
    "from torch import nn\n",
    "\n",
    "class LeNet(nn.Module):\n",
    "    def __init__(self):\n",
    "        super().__init__()\n",
    "        self.block_1 = nn.Sequential(\n",
    "            nn.Conv2d(\n",
    "            in_channels=1,\n",
    "            out_channels=10,\n",
    "            kernel_size=5),\n",
    "            nn.MaxPool2d(kernel_size=2),\n",
    "            nn.ReLU()\n",
    "        )\n",
    "\n",
    "        self.block_2 = nn.Sequential(\n",
    "            nn.Conv2d(\n",
    "            in_channels=10,\n",
    "            out_channels=20,\n",
    "            kernel_size=5,\n",
    "            ),\n",
    "            nn.Dropout2d(0.5),\n",
    "            nn.MaxPool2d(kernel_size=2),\n",
    "            nn.ReLU()\n",
    "        )\n",
    "\n",
    "        self.classifier = nn.Sequential(\n",
    "            nn.Flatten(),\n",
    "            nn.Linear(in_features=20 * 4 * 4, out_features=50),\n",
    "            nn.Linear(50, 10)\n",
    "        )\n",
    "\n",
    "    def forward(self, x: torch.Tensor):\n",
    "        x = self.block_1(x)\n",
    "        x = self.block_2(x)\n",
    "        x = self.classifier(x)\n",
    "\n",
    "        return nn.functional.log_softmax(x)\n",
    "\n",
    "    "
   ]
  },
  {
   "cell_type": "code",
   "execution_count": 18,
   "metadata": {},
   "outputs": [],
   "source": [
    "model = LeNet().to(device=\"mps\")"
   ]
  },
  {
   "cell_type": "code",
   "execution_count": 8,
   "metadata": {},
   "outputs": [
    {
     "name": "stdout",
     "output_type": "stream",
     "text": [
      "LeNet(\n",
      "  (block_1): Sequential(\n",
      "    (0): Conv2d(1, 10, kernel_size=(5, 5), stride=(1, 1))\n",
      "    (1): MaxPool2d(kernel_size=2, stride=2, padding=0, dilation=1, ceil_mode=False)\n",
      "    (2): ReLU()\n",
      "  )\n",
      "  (block_2): Sequential(\n",
      "    (0): Conv2d(10, 20, kernel_size=(5, 5), stride=(1, 1))\n",
      "    (1): Dropout2d(p=0.5, inplace=False)\n",
      "    (2): MaxPool2d(kernel_size=2, stride=2, padding=0, dilation=1, ceil_mode=False)\n",
      "    (3): ReLU()\n",
      "  )\n",
      "  (classifier): Sequential(\n",
      "    (0): Flatten(start_dim=1, end_dim=-1)\n",
      "    (1): Linear(in_features=320, out_features=50, bias=True)\n",
      "    (2): Linear(in_features=50, out_features=10, bias=True)\n",
      "  )\n",
      ")\n"
     ]
    }
   ],
   "source": [
    "print(model)"
   ]
  },
  {
   "cell_type": "code",
   "execution_count": 19,
   "metadata": {},
   "outputs": [],
   "source": [
    "# Setup loss and optimizer\n",
    "loss_fn = nn.CrossEntropyLoss()\n",
    "optimizer = torch.optim.SGD(params=model.parameters(), \n",
    "                             lr=0.1)"
   ]
  },
  {
   "cell_type": "code",
   "execution_count": 23,
   "metadata": {},
   "outputs": [
    {
     "name": "stderr",
     "output_type": "stream",
     "text": [
      "/var/folders/qt/lcy0bl5s105cq2bn6m_hhzlc0000gn/T/ipykernel_38918/408714485.py:38: UserWarning: Implicit dimension choice for log_softmax has been deprecated. Change the call to include dim=X as an argument.\n",
      "  return nn.functional.log_softmax(x)\n"
     ]
    },
    {
     "name": "stdout",
     "output_type": "stream",
     "text": [
      "Train loss: 0.13944 | Train accuracy: 95.83%\n",
      "Train loss: 0.11916 | Train accuracy: 96.48%\n",
      "Train loss: 0.10596 | Train accuracy: 96.84%\n",
      "Train loss: 0.10135 | Train accuracy: 96.96%\n",
      "Train loss: 0.10107 | Train accuracy: 97.02%\n"
     ]
    }
   ],
   "source": [
    "from helper_functions import accuracy_fn\n",
    "def train_step(model: torch.nn.Module,\n",
    "               data_loader: torch.utils.data.DataLoader,\n",
    "               loss_fn: torch.nn.Module,\n",
    "               optimizer: torch.optim.Optimizer,\n",
    "               accuracy_fn,\n",
    "               device: torch.device = \"mps\"):\n",
    "    train_loss, train_acc = 0, 0\n",
    "    for batch, (X, y) in enumerate(data_loader):\n",
    "        # Send data to GPU\n",
    "        X, y = X.to(device), y.to(device)\n",
    "\n",
    "        # 1. Forward pass\n",
    "        y_pred = model(X)\n",
    "        #print(y_pred)\n",
    "\n",
    "        # 2. Calculate loss\n",
    "        loss = loss_fn(y_pred, y)\n",
    "        train_loss += loss\n",
    "        train_acc += accuracy_fn(y_true=y,\n",
    "                                 y_pred=y_pred.argmax(dim=1)) # Go from logits -> pred labels\n",
    "\n",
    "        # 3. Optimizer zero grad\n",
    "        optimizer.zero_grad()\n",
    "\n",
    "        # 4. Loss backward\n",
    "        loss.backward()\n",
    "\n",
    "        # 5. Optimizer step\n",
    "        optimizer.step()\n",
    "\n",
    "    # Calculate loss and accuracy per epoch and print out what's happening\n",
    "    train_loss /= len(data_loader)\n",
    "    train_acc /= len(data_loader)\n",
    "    print(f\"Train loss: {train_loss:.5f} | Train accuracy: {train_acc:.2f}%\")\n",
    "\n",
    "for i in range(5):\n",
    "    train_step(model=model, data_loader=train_dataloader, loss_fn=loss_fn, optimizer=optimizer, accuracy_fn=accuracy_fn)"
   ]
  },
  {
   "cell_type": "code",
   "execution_count": 4,
   "metadata": {},
   "outputs": [
    {
     "data": {
      "text/html": [
       "<div>\n",
       "<style scoped>\n",
       "    .dataframe tbody tr th:only-of-type {\n",
       "        vertical-align: middle;\n",
       "    }\n",
       "\n",
       "    .dataframe tbody tr th {\n",
       "        vertical-align: top;\n",
       "    }\n",
       "\n",
       "    .dataframe thead th {\n",
       "        text-align: right;\n",
       "    }\n",
       "</style>\n",
       "<table border=\"1\" class=\"dataframe\">\n",
       "  <thead>\n",
       "    <tr style=\"text-align: right;\">\n",
       "      <th></th>\n",
       "      <th>train_loss</th>\n",
       "      <th>train_acc</th>\n",
       "      <th>test_loss</th>\n",
       "      <th>test_acc</th>\n",
       "    </tr>\n",
       "  </thead>\n",
       "  <tbody>\n",
       "    <tr>\n",
       "      <th>0</th>\n",
       "      <td>0.270549</td>\n",
       "      <td>91.666667</td>\n",
       "      <td>0.079666</td>\n",
       "      <td>97.54393</td>\n",
       "    </tr>\n",
       "  </tbody>\n",
       "</table>\n",
       "</div>"
      ],
      "text/plain": [
       "   train_loss  train_acc  test_loss  test_acc\n",
       "0    0.270549  91.666667   0.079666  97.54393"
      ]
     },
     "execution_count": 4,
     "metadata": {},
     "output_type": "execute_result"
    }
   ],
   "source": [
    "dict_ = {'train_loss': [0.27054864591360095], 'train_acc': [91.66666666666667], 'test_loss': [0.07966596637933386], 'test_acc': [97.54392971246007]}\n",
    "df = pd.DataFrame(dict_)\n",
    "df"
   ]
  },
  {
   "cell_type": "code",
   "execution_count": 6,
   "metadata": {},
   "outputs": [],
   "source": [
    "import os\n",
    "path = os.path.join(\"Models/results.csv\")\n",
    "df.to_csv(path)"
   ]
  },
  {
   "cell_type": "code",
   "execution_count": 20,
   "metadata": {},
   "outputs": [
    {
     "data": {
      "text/html": [
       "<div>\n",
       "<style scoped>\n",
       "    .dataframe tbody tr th:only-of-type {\n",
       "        vertical-align: middle;\n",
       "    }\n",
       "\n",
       "    .dataframe tbody tr th {\n",
       "        vertical-align: top;\n",
       "    }\n",
       "\n",
       "    .dataframe thead th {\n",
       "        text-align: right;\n",
       "    }\n",
       "</style>\n",
       "<table border=\"1\" class=\"dataframe\">\n",
       "  <thead>\n",
       "    <tr style=\"text-align: right;\">\n",
       "      <th></th>\n",
       "      <th>Unnamed: 0</th>\n",
       "      <th>train_loss</th>\n",
       "      <th>train_acc</th>\n",
       "      <th>test_loss</th>\n",
       "      <th>test_acc</th>\n",
       "    </tr>\n",
       "  </thead>\n",
       "  <tbody>\n",
       "    <tr>\n",
       "      <th>0</th>\n",
       "      <td>0</td>\n",
       "      <td>0.246825</td>\n",
       "      <td>92.501667</td>\n",
       "      <td>0.066225</td>\n",
       "      <td>97.753594</td>\n",
       "    </tr>\n",
       "    <tr>\n",
       "      <th>1</th>\n",
       "      <td>1</td>\n",
       "      <td>0.132994</td>\n",
       "      <td>96.013333</td>\n",
       "      <td>0.051816</td>\n",
       "      <td>98.342652</td>\n",
       "    </tr>\n",
       "    <tr>\n",
       "      <th>2</th>\n",
       "      <td>2</td>\n",
       "      <td>0.113442</td>\n",
       "      <td>96.655000</td>\n",
       "      <td>0.046505</td>\n",
       "      <td>98.492412</td>\n",
       "    </tr>\n",
       "    <tr>\n",
       "      <th>3</th>\n",
       "      <td>3</td>\n",
       "      <td>0.109930</td>\n",
       "      <td>96.701667</td>\n",
       "      <td>0.041878</td>\n",
       "      <td>98.722045</td>\n",
       "    </tr>\n",
       "    <tr>\n",
       "      <th>4</th>\n",
       "      <td>4</td>\n",
       "      <td>0.101617</td>\n",
       "      <td>96.945000</td>\n",
       "      <td>0.069096</td>\n",
       "      <td>97.743610</td>\n",
       "    </tr>\n",
       "  </tbody>\n",
       "</table>\n",
       "</div>"
      ],
      "text/plain": [
       "   Unnamed: 0  train_loss  train_acc  test_loss   test_acc\n",
       "0           0    0.246825  92.501667   0.066225  97.753594\n",
       "1           1    0.132994  96.013333   0.051816  98.342652\n",
       "2           2    0.113442  96.655000   0.046505  98.492412\n",
       "3           3    0.109930  96.701667   0.041878  98.722045\n",
       "4           4    0.101617  96.945000   0.069096  97.743610"
      ]
     },
     "execution_count": 20,
     "metadata": {},
     "output_type": "execute_result"
    }
   ],
   "source": [
    "df1 = pd.read_csv(\"Models/results.csv\")\n",
    "df1.head()"
   ]
  },
  {
   "cell_type": "code",
   "execution_count": 21,
   "metadata": {},
   "outputs": [
    {
     "data": {
      "text/html": [
       "<div>\n",
       "<style scoped>\n",
       "    .dataframe tbody tr th:only-of-type {\n",
       "        vertical-align: middle;\n",
       "    }\n",
       "\n",
       "    .dataframe tbody tr th {\n",
       "        vertical-align: top;\n",
       "    }\n",
       "\n",
       "    .dataframe thead th {\n",
       "        text-align: right;\n",
       "    }\n",
       "</style>\n",
       "<table border=\"1\" class=\"dataframe\">\n",
       "  <thead>\n",
       "    <tr style=\"text-align: right;\">\n",
       "      <th></th>\n",
       "      <th>train_loss</th>\n",
       "      <th>train_acc</th>\n",
       "      <th>test_loss</th>\n",
       "      <th>test_acc</th>\n",
       "    </tr>\n",
       "  </thead>\n",
       "  <tbody>\n",
       "    <tr>\n",
       "      <th>0</th>\n",
       "      <td>0.246825</td>\n",
       "      <td>92.501667</td>\n",
       "      <td>0.066225</td>\n",
       "      <td>97.753594</td>\n",
       "    </tr>\n",
       "    <tr>\n",
       "      <th>1</th>\n",
       "      <td>0.132994</td>\n",
       "      <td>96.013333</td>\n",
       "      <td>0.051816</td>\n",
       "      <td>98.342652</td>\n",
       "    </tr>\n",
       "    <tr>\n",
       "      <th>2</th>\n",
       "      <td>0.113442</td>\n",
       "      <td>96.655000</td>\n",
       "      <td>0.046505</td>\n",
       "      <td>98.492412</td>\n",
       "    </tr>\n",
       "    <tr>\n",
       "      <th>3</th>\n",
       "      <td>0.109930</td>\n",
       "      <td>96.701667</td>\n",
       "      <td>0.041878</td>\n",
       "      <td>98.722045</td>\n",
       "    </tr>\n",
       "    <tr>\n",
       "      <th>4</th>\n",
       "      <td>0.101617</td>\n",
       "      <td>96.945000</td>\n",
       "      <td>0.069096</td>\n",
       "      <td>97.743610</td>\n",
       "    </tr>\n",
       "  </tbody>\n",
       "</table>\n",
       "</div>"
      ],
      "text/plain": [
       "   train_loss  train_acc  test_loss   test_acc\n",
       "0    0.246825  92.501667   0.066225  97.753594\n",
       "1    0.132994  96.013333   0.051816  98.342652\n",
       "2    0.113442  96.655000   0.046505  98.492412\n",
       "3    0.109930  96.701667   0.041878  98.722045\n",
       "4    0.101617  96.945000   0.069096  97.743610"
      ]
     },
     "execution_count": 21,
     "metadata": {},
     "output_type": "execute_result"
    }
   ],
   "source": [
    "df1.drop(\"Unnamed: 0\", axis=1, inplace=True)\n",
    "df1"
   ]
  },
  {
   "cell_type": "code",
   "execution_count": 17,
   "metadata": {},
   "outputs": [
    {
     "ename": "NameError",
     "evalue": "name 'df1' is not defined",
     "output_type": "error",
     "traceback": [
      "\u001b[0;31m---------------------------------------------------------------------------\u001b[0m",
      "\u001b[0;31mNameError\u001b[0m                                 Traceback (most recent call last)",
      "Cell \u001b[0;32mIn[17], line 1\u001b[0m\n\u001b[0;32m----> 1\u001b[0m my_dict \u001b[39m=\u001b[39m df1\u001b[39m.\u001b[39mto_dict(\u001b[39m'\u001b[39m\u001b[39mlist\u001b[39m\u001b[39m'\u001b[39m)\n\u001b[1;32m      2\u001b[0m my_dict\n",
      "\u001b[0;31mNameError\u001b[0m: name 'df1' is not defined"
     ]
    }
   ],
   "source": [
    "my_dict = df1.to_dict('list')\n",
    "my_dict"
   ]
  },
  {
   "cell_type": "code",
   "execution_count": 31,
   "metadata": {},
   "outputs": [],
   "source": [
    "model_path = \"Models/base_model.pth\"\n",
    "from models import LeNet\n",
    "from dataloader import create_dataloaders\n",
    "\n",
    "state_dict = torch.load(model_path, map_location=torch.device('mps'))\n",
    "model = LeNet()\n",
    "model.load_state_dict(state_dict)\n",
    "\n",
    "train_data, test_data, class_names = create_dataloaders(32)\n"
   ]
  },
  {
   "cell_type": "code",
   "execution_count": 45,
   "metadata": {},
   "outputs": [],
   "source": [
    "image, labels = next(iter(test_data))"
   ]
  },
  {
   "cell_type": "code",
   "execution_count": 71,
   "metadata": {},
   "outputs": [
    {
     "name": "stdout",
     "output_type": "stream",
     "text": [
      "Prediction Probabilities are: tensor([[-2.38e+01, -2.25e+01, -2.00e+01, -1.73e+01, -3.27e+01, -2.52e+01,\n",
      "         -3.66e+01, -1.19e-07, -2.08e+01, -1.69e+01]])\n",
      "Original label:7, predicted label:tensor([7])\n",
      "--------------------------------------------------------------------------\n",
      "Prediction Probabilities are: tensor([[-5.95e+00, -5.88e+00, -8.33e-03, -1.13e+01, -1.55e+01, -1.85e+01,\n",
      "         -5.87e+00, -2.21e+01, -1.00e+01, -2.20e+01]])\n",
      "Original label:2, predicted label:tensor([2])\n",
      "--------------------------------------------------------------------------\n",
      "Prediction Probabilities are: tensor([[-1.28e+01, -6.61e-04, -1.12e+01, -1.38e+01, -7.65e+00, -1.14e+01,\n",
      "         -9.12e+00, -1.13e+01, -1.04e+01, -1.29e+01]])\n",
      "Original label:1, predicted label:tensor([1])\n",
      "--------------------------------------------------------------------------\n",
      "Prediction Probabilities are: tensor([[-7.40e-05, -1.89e+01, -1.15e+01, -1.66e+01, -2.13e+01, -1.51e+01,\n",
      "         -9.71e+00, -1.77e+01, -1.27e+01, -1.57e+01]])\n",
      "Original label:0, predicted label:tensor([0])\n",
      "--------------------------------------------------------------------------\n",
      "Prediction Probabilities are: tensor([[-2.05e+01, -1.64e+01, -1.63e+01, -2.13e+01, -4.63e-04, -1.64e+01,\n",
      "         -1.56e+01, -1.84e+01, -1.62e+01, -7.68e+00]])\n",
      "Original label:4, predicted label:tensor([4])\n",
      "--------------------------------------------------------------------------\n",
      "Prediction Probabilities are: tensor([[-1.50e+01, -1.56e-03, -1.28e+01, -1.65e+01, -6.49e+00, -1.49e+01,\n",
      "         -1.14e+01, -1.12e+01, -1.14e+01, -1.30e+01]])\n",
      "Original label:1, predicted label:tensor([1])\n",
      "--------------------------------------------------------------------------\n",
      "Prediction Probabilities are: tensor([[-2.70e+01, -1.40e+01, -1.84e+01, -1.94e+01, -1.66e-04, -1.13e+01,\n",
      "         -1.91e+01, -1.77e+01, -1.31e+01, -8.80e+00]])\n",
      "Original label:4, predicted label:tensor([4])\n",
      "--------------------------------------------------------------------------\n",
      "Prediction Probabilities are: tensor([[-2.43e+01, -1.79e+01, -1.94e+01, -1.73e+01, -7.93e+00, -1.10e+01,\n",
      "         -2.35e+01, -1.34e+01, -1.38e+01, -3.78e-04]])\n",
      "Original label:9, predicted label:tensor([9])\n",
      "--------------------------------------------------------------------------\n",
      "Prediction Probabilities are: tensor([[-1.68e+01, -2.24e+01, -2.04e+01, -1.73e+01, -1.78e+01, -3.40e-04,\n",
      "         -8.04e+00, -2.39e+01, -1.18e+01, -1.15e+01]])\n",
      "Original label:5, predicted label:tensor([5])\n",
      "--------------------------------------------------------------------------\n",
      "Prediction Probabilities are: tensor([[-2.59e+01, -2.40e+01, -2.21e+01, -1.70e+01, -1.05e+01, -1.12e+01,\n",
      "         -2.91e+01, -9.77e+00, -1.44e+01, -9.87e-05]])\n",
      "Original label:9, predicted label:tensor([9])\n",
      "--------------------------------------------------------------------------\n"
     ]
    },
    {
     "name": "stderr",
     "output_type": "stream",
     "text": [
      "/Users/jyothivishnuvardhankolla/Desktop/Project-5-DeepNetworks/models.py:52: UserWarning: Implicit dimension choice for log_softmax has been deprecated. Change the call to include dim=X as an argument.\n",
      "  return nn.functional.log_softmax(x)\n"
     ]
    }
   ],
   "source": [
    "torch.set_printoptions(precision=2)\n",
    "model.eval()\n",
    "pred_labels = []\n",
    "with torch.inference_mode():\n",
    "    for i in range(10):\n",
    "        img = image[i].unsqueeze(0)\n",
    "        label = labels[i]\n",
    "\n",
    "        prediction = model(img)\n",
    "        pred_labels.append(int(torch.argmax(prediction, dim=1)))\n",
    "        print(f\"Prediction Probabilities are: {prediction}\")\n",
    "        print(f\"Original label:{label}, predicted label:{torch.argmax(prediction, dim=1)}\")\n",
    "        print(\"--------------------------------------------------------------------------\")\n"
   ]
  },
  {
   "cell_type": "code",
   "execution_count": 83,
   "metadata": {},
   "outputs": [
    {
     "data": {
      "image/png": "[encoded data removed]",
      "text/plain": [
       "<Figure size 900x900 with 9 Axes>"
      ]
     },
     "metadata": {},
     "output_type": "display_data"
    }
   ],
   "source": [
    "# Plot the predictions.\n",
    "import matplotlib.pyplot as plt\n",
    "torch.manual_seed(42)\n",
    "fig = plt.figure(figsize=(9, 9))\n",
    "rows, cols = 3, 3\n",
    "\n",
    "for i in range(1, rows * cols + 1):\n",
    "    img, label = image[i], labels[i]\n",
    "    fig.add_subplot(rows, cols, i)\n",
    "    plt.imshow(img.squeeze(), cmap='gray')\n",
    "    plt.title(f\"Predicted:{class_names[pred_labels[i]]}\")\n",
    "    plt.axis('off')"
   ]
  },
  {
   "cell_type": "code",
   "execution_count": 3,
   "metadata": {},
   "outputs": [
    {
     "data": {
      "text/plain": [
       "<All keys matched successfully>"
      ]
     },
     "execution_count": 3,
     "metadata": {},
     "output_type": "execute_result"
    }
   ],
   "source": [
    "model_path = \"Models/base_model.pth\"\n",
    "from models import LeNet\n",
    "from dataloader import create_dataloaders\n",
    "\n",
    "state_dict = torch.load(model_path, map_location=torch.device('mps'))\n",
    "model = LeNet()\n",
    "model.load_state_dict(state_dict)"
   ]
  },
  {
   "cell_type": "code",
   "execution_count": 6,
   "metadata": {},
   "outputs": [
    {
     "name": "stdout",
     "output_type": "stream",
     "text": [
      "Layer Name: block_1.0.weight\n",
      "Layer Name: block_1.0.bias\n",
      "Layer Name: block_2.0.weight\n",
      "Layer Name: block_2.0.bias\n",
      "Layer Name: classifier.1.weight\n",
      "Layer Name: classifier.1.bias\n",
      "Layer Name: classifier.2.weight\n",
      "Layer Name: classifier.2.bias\n"
     ]
    }
   ],
   "source": [
    "for name, param in model.named_parameters():\n",
    "    print(f\"Layer Name: {name}\")\n",
    "    #print(f\"Layer weights: {param}\")"
   ]
  },
  {
   "cell_type": "code",
   "execution_count": 26,
   "metadata": {},
   "outputs": [
    {
     "name": "stdout",
     "output_type": "stream",
     "text": [
      "tensor([[-0.0696,  0.1216,  0.1264, -0.1283, -0.2596],\n",
      "        [ 0.0454, -0.1114, -0.3396, -0.2346, -0.4654],\n",
      "        [-0.1254, -0.1758, -0.1783, -0.1168, -0.0873],\n",
      "        [-0.1665, -0.1705, -0.0270,  0.0532,  0.3247],\n",
      "        [-0.4742, -0.1129, -0.0903,  0.2562,  0.3162]])\n"
     ]
    },
    {
     "data": {
      "image/png": "[encoded data removed]",
      "text/plain": [
       "<Figure size 800x800 with 10 Axes>"
      ]
     },
     "metadata": {},
     "output_type": "display_data"
    }
   ],
   "source": [
    "# Analyze the first layer.\n",
    "\n",
    "import matplotlib.pyplot as plt\n",
    "layer_name = \"block_1.0.weight\"\n",
    "layer_weights = model.state_dict()[layer_name]\n",
    "print(layer_weights[9][0])\n",
    "\n",
    "fig = plt.figure(figsize=(8, 8))\n",
    "rows,  cols = 3, 4\n",
    "for i in range(1, rows * cols - 1):\n",
    "    img = layer_weights[i - 1][0]\n",
    "    fig.add_subplot(rows, cols, i)\n",
    "    plt.imshow(img)\n",
    "    plt.title(f\"figure {i - 1}\")\n",
    "    plt.axis('off')\n",
    "\n",
    "plt.show()\n"
   ]
  },
  {
   "cell_type": "code",
   "execution_count": 49,
   "metadata": {},
   "outputs": [
    {
     "data": {
      "image/png": "[encoded data removed]",
      "text/plain": [
       "<Figure size 800x800 with 10 Axes>"
      ]
     },
     "metadata": {},
     "output_type": "display_data"
    }
   ],
   "source": [
    "# Show the effect of the filters.\n",
    "import cv2\n",
    "from dataloader import create_dataloaders\n",
    "train_data, test_data, class_names = create_dataloaders(32)\n",
    "\n",
    "image, lable = next(iter(train_data))\n",
    "image = image[0].numpy()\n",
    "\n",
    "fig = plt.figure(figsize=(8, 8))\n",
    "rows,  cols = 3, 4\n",
    "for i in range(len(layer_weights)):\n",
    "    kernel = layer_weights[i][0].numpy()\n",
    "    filter_img = cv2.filter2D(image[0], -1, kernel)\n",
    "    fig.add_subplot(rows, cols, i + 1)\n",
    "    plt.imshow(filter_img, cmap='gray')\n",
    "\n",
    "plt.show()"
   ]
  },
  {
   "cell_type": "code",
   "execution_count": 54,
   "metadata": {},
   "outputs": [],
   "source": [
    "import torch\n",
    "from torchvision import transforms, datasets\n",
    "import torchvision\n",
    "\n",
    "class GreekTransform:\n",
    "    def __init__(self):\n",
    "        pass\n",
    "\n",
    "    def __call__(self, x):\n",
    "        x = torchvision.transforms.functional.rgb_to_grayscale( x )\n",
    "        x = torchvision.transforms.functional.affine( x, 0, (0,0), 36/128, 0 )\n",
    "        x = torchvision.transforms.functional.center_crop( x, (28, 28) )\n",
    "        return torchvision.transforms.functional.invert( x )\n",
    "    \n",
    "# Define a transform to normalize the data.\n",
    "data_transform = torchvision.transforms.Compose([\n",
    "    torchvision.transforms.ToTensor(),\n",
    "    GreekTransform(),\n",
    "    torchvision.transforms.Normalize(\n",
    "        (0.1307, ), (0.3081,))\n",
    "])\n",
    "    \n",
    "# Dataloader for the greek dataset.\n",
    "greek_train = torch.utils.data.DataLoader(\n",
    "    torchvision.datasets.ImageFolder(\"greek_train\",\n",
    "                                     transform=data_transform),\n",
    "    batch_size=5,\n",
    "    shuffle=True\n",
    ")"
   ]
  },
  {
   "cell_type": "code",
   "execution_count": 55,
   "metadata": {},
   "outputs": [
    {
     "data": {
      "text/plain": [
       "LeNet(\n",
       "  (block_1): Sequential(\n",
       "    (0): Conv2d(1, 10, kernel_size=(5, 5), stride=(1, 1))\n",
       "    (1): MaxPool2d(kernel_size=2, stride=2, padding=0, dilation=1, ceil_mode=False)\n",
       "    (2): ReLU()\n",
       "  )\n",
       "  (block_2): Sequential(\n",
       "    (0): Conv2d(10, 20, kernel_size=(5, 5), stride=(1, 1))\n",
       "    (1): Dropout2d(p=0.5, inplace=False)\n",
       "    (2): MaxPool2d(kernel_size=2, stride=2, padding=0, dilation=1, ceil_mode=False)\n",
       "    (3): ReLU()\n",
       "  )\n",
       "  (classifier): Sequential(\n",
       "    (0): Flatten(start_dim=1, end_dim=-1)\n",
       "    (1): Linear(in_features=320, out_features=50, bias=True)\n",
       "    (2): Linear(in_features=50, out_features=10, bias=True)\n",
       "  )\n",
       ")"
      ]
     },
     "execution_count": 55,
     "metadata": {},
     "output_type": "execute_result"
    }
   ],
   "source": [
    "# Load the previous model\n",
    "device = torch.device(\"mps\")\n",
    "from models import LeNet\n",
    "model_path = \"Models/base_model.pth\"\n",
    "state_dict = torch.load(model_path, map_location=device)\n",
    "model = LeNet()\n",
    "model.load_state_dict(state_dict)\n",
    "\n",
    "model.to(device=device)"
   ]
  },
  {
   "cell_type": "code",
   "execution_count": 56,
   "metadata": {},
   "outputs": [
    {
     "name": "stdout",
     "output_type": "stream",
     "text": [
      "mps:0\n",
      "mps:0\n",
      "mps:0\n",
      "mps:0\n",
      "mps:0\n",
      "mps:0\n",
      "mps:0\n",
      "mps:0\n"
     ]
    }
   ],
   "source": [
    "for param in model.parameters():\n",
    "    print(param.device)"
   ]
  },
  {
   "cell_type": "code",
   "execution_count": 58,
   "metadata": {},
   "outputs": [
    {
     "data": {
      "text/plain": [
       "========================================================================================================================\n",
       "Layer (type (var_name))                  Input Shape          Output Shape         Param #              Trainable\n",
       "========================================================================================================================\n",
       "LeNet (LeNet)                            [1, 1, 28, 28]       [1, 10]              --                   True\n",
       "├─Sequential (block_1)                   [1, 1, 28, 28]       [1, 10, 12, 12]      --                   True\n",
       "│    └─Conv2d (0)                        [1, 1, 28, 28]       [1, 10, 24, 24]      260                  True\n",
       "│    └─MaxPool2d (1)                     [1, 10, 24, 24]      [1, 10, 12, 12]      --                   --\n",
       "│    └─ReLU (2)                          [1, 10, 12, 12]      [1, 10, 12, 12]      --                   --\n",
       "├─Sequential (block_2)                   [1, 10, 12, 12]      [1, 20, 4, 4]        --                   True\n",
       "│    └─Conv2d (0)                        [1, 10, 12, 12]      [1, 20, 8, 8]        5,020                True\n",
       "│    └─Dropout2d (1)                     [1, 20, 8, 8]        [1, 20, 8, 8]        --                   --\n",
       "│    └─MaxPool2d (2)                     [1, 20, 8, 8]        [1, 20, 4, 4]        --                   --\n",
       "│    └─ReLU (3)                          [1, 20, 4, 4]        [1, 20, 4, 4]        --                   --\n",
       "├─Sequential (classifier)                [1, 20, 4, 4]        [1, 10]              --                   True\n",
       "│    └─Flatten (0)                       [1, 20, 4, 4]        [1, 320]             --                   --\n",
       "│    └─Linear (1)                        [1, 320]             [1, 50]              16,050               True\n",
       "│    └─Linear (2)                        [1, 50]              [1, 10]              510                  True\n",
       "========================================================================================================================\n",
       "Total params: 21,840\n",
       "Trainable params: 21,840\n",
       "Non-trainable params: 0\n",
       "Total mult-adds (M): 0.49\n",
       "========================================================================================================================\n",
       "Input size (MB): 0.00\n",
       "Forward/backward pass size (MB): 0.06\n",
       "Params size (MB): 0.09\n",
       "Estimated Total Size (MB): 0.15\n",
       "========================================================================================================================"
      ]
     },
     "execution_count": 58,
     "metadata": {},
     "output_type": "execute_result"
    }
   ],
   "source": [
    "from torchinfo import summary\n",
    "summary(model, input_size=(1, 1, 28, 28),\n",
    "        col_names=[\"input_size\", \"output_size\", \"num_params\", \"trainable\"],\n",
    "        col_width=20,\n",
    "        row_settings=[\"var_names\"])"
   ]
  },
  {
   "cell_type": "code",
   "execution_count": 59,
   "metadata": {},
   "outputs": [
    {
     "name": "stdout",
     "output_type": "stream",
     "text": [
      "block_1.0.weight cpu\n",
      "block_1.0.bias cpu\n",
      "block_2.0.weight cpu\n",
      "block_2.0.bias cpu\n",
      "classifier.1.weight cpu\n",
      "classifier.1.bias cpu\n",
      "classifier.2.weight cpu\n",
      "classifier.2.bias cpu\n"
     ]
    }
   ],
   "source": [
    "for name, param in model.named_parameters():\n",
    "    print(name, param.device)"
   ]
  },
  {
   "cell_type": "code",
   "execution_count": 61,
   "metadata": {},
   "outputs": [
    {
     "data": {
      "text/plain": [
       "========================================================================================================================\n",
       "Layer (type (var_name))                  Input Shape          Output Shape         Param #              Trainable\n",
       "========================================================================================================================\n",
       "LeNet (LeNet)                            [1, 1, 28, 28]       [1, 10]              --                   False\n",
       "├─Sequential (block_1)                   [1, 1, 28, 28]       [1, 10, 12, 12]      --                   False\n",
       "│    └─Conv2d (0)                        [1, 1, 28, 28]       [1, 10, 24, 24]      (260)                False\n",
       "│    └─MaxPool2d (1)                     [1, 10, 24, 24]      [1, 10, 12, 12]      --                   --\n",
       "│    └─ReLU (2)                          [1, 10, 12, 12]      [1, 10, 12, 12]      --                   --\n",
       "├─Sequential (block_2)                   [1, 10, 12, 12]      [1, 20, 4, 4]        --                   False\n",
       "│    └─Conv2d (0)                        [1, 10, 12, 12]      [1, 20, 8, 8]        (5,020)              False\n",
       "│    └─Dropout2d (1)                     [1, 20, 8, 8]        [1, 20, 8, 8]        --                   --\n",
       "│    └─MaxPool2d (2)                     [1, 20, 8, 8]        [1, 20, 4, 4]        --                   --\n",
       "│    └─ReLU (3)                          [1, 20, 4, 4]        [1, 20, 4, 4]        --                   --\n",
       "├─Sequential (classifier)                [1, 20, 4, 4]        [1, 10]              --                   False\n",
       "│    └─Flatten (0)                       [1, 20, 4, 4]        [1, 320]             --                   --\n",
       "│    └─Linear (1)                        [1, 320]             [1, 50]              (16,050)             False\n",
       "│    └─Linear (2)                        [1, 50]              [1, 10]              (510)                False\n",
       "========================================================================================================================\n",
       "Total params: 21,840\n",
       "Trainable params: 0\n",
       "Non-trainable params: 21,840\n",
       "Total mult-adds (M): 0.49\n",
       "========================================================================================================================\n",
       "Input size (MB): 0.00\n",
       "Forward/backward pass size (MB): 0.06\n",
       "Params size (MB): 0.09\n",
       "Estimated Total Size (MB): 0.15\n",
       "========================================================================================================================"
      ]
     },
     "execution_count": 61,
     "metadata": {},
     "output_type": "execute_result"
    }
   ],
   "source": [
    "for name, param in model.named_parameters():\n",
    "    param.requires_grad = False\n",
    "\n",
    "summary(model, input_size=(1, 1, 28, 28),\n",
    "        col_names=[\"input_size\", \"output_size\", \"num_params\", \"trainable\"],\n",
    "        col_width=20,\n",
    "        row_settings=[\"var_names\"])\n"
   ]
  },
  {
   "cell_type": "code",
   "execution_count": 62,
   "metadata": {},
   "outputs": [
    {
     "data": {
      "text/plain": [
       "========================================================================================================================\n",
       "Layer (type (var_name))                  Input Shape          Output Shape         Param #              Trainable\n",
       "========================================================================================================================\n",
       "LeNet (LeNet)                            [1, 1, 28, 28]       [1, 3]               --                   Partial\n",
       "├─Sequential (block_1)                   [1, 1, 28, 28]       [1, 10, 12, 12]      --                   False\n",
       "│    └─Conv2d (0)                        [1, 1, 28, 28]       [1, 10, 24, 24]      (260)                False\n",
       "│    └─MaxPool2d (1)                     [1, 10, 24, 24]      [1, 10, 12, 12]      --                   --\n",
       "│    └─ReLU (2)                          [1, 10, 12, 12]      [1, 10, 12, 12]      --                   --\n",
       "├─Sequential (block_2)                   [1, 10, 12, 12]      [1, 20, 4, 4]        --                   False\n",
       "│    └─Conv2d (0)                        [1, 10, 12, 12]      [1, 20, 8, 8]        (5,020)              False\n",
       "│    └─Dropout2d (1)                     [1, 20, 8, 8]        [1, 20, 8, 8]        --                   --\n",
       "│    └─MaxPool2d (2)                     [1, 20, 8, 8]        [1, 20, 4, 4]        --                   --\n",
       "│    └─ReLU (3)                          [1, 20, 4, 4]        [1, 20, 4, 4]        --                   --\n",
       "├─Sequential (classifier)                [1, 20, 4, 4]        [1, 3]               --                   True\n",
       "│    └─Flatten (0)                       [1, 20, 4, 4]        [1, 320]             --                   --\n",
       "│    └─Linear (1)                        [1, 320]             [1, 50]              16,050               True\n",
       "│    └─Linear (2)                        [1, 50]              [1, 3]               153                  True\n",
       "========================================================================================================================\n",
       "Total params: 21,483\n",
       "Trainable params: 16,203\n",
       "Non-trainable params: 5,280\n",
       "Total mult-adds (M): 0.49\n",
       "========================================================================================================================\n",
       "Input size (MB): 0.00\n",
       "Forward/backward pass size (MB): 0.06\n",
       "Params size (MB): 0.09\n",
       "Estimated Total Size (MB): 0.15\n",
       "========================================================================================================================"
      ]
     },
     "execution_count": 62,
     "metadata": {},
     "output_type": "execute_result"
    }
   ],
   "source": [
    "import torch\n",
    "from torch import nn\n",
    "\n",
    "model.classifier = nn.Sequential(\n",
    "    nn.Flatten(),\n",
    "    nn.Linear(in_features=20 * 4 * 4, out_features=50),\n",
    "    nn.Linear(50, 3)\n",
    ").to(device=device)\n",
    "\n",
    "summary(model, input_size=(1, 1, 28, 28),\n",
    "        col_names=[\"input_size\", \"output_size\", \"num_params\", \"trainable\"],\n",
    "        col_width=20,\n",
    "        row_settings=[\"var_names\"])"
   ]
  },
  {
   "cell_type": "code",
   "execution_count": 63,
   "metadata": {},
   "outputs": [
    {
     "name": "stdout",
     "output_type": "stream",
     "text": [
      "cpu\n",
      "cpu\n",
      "cpu\n",
      "cpu\n",
      "cpu\n",
      "cpu\n",
      "cpu\n",
      "cpu\n"
     ]
    }
   ],
   "source": [
    "for param in model.parameters():\n",
    "    print(param.device)"
   ]
  },
  {
   "cell_type": "code",
   "execution_count": 74,
   "metadata": {},
   "outputs": [
    {
     "name": "stdout",
     "output_type": "stream",
     "text": [
      "0.6509816547234853 90.0\n",
      "0.5597625598311424 96.66666666666667\n",
      "0.4752599497636159 88.33333333333333\n",
      "0.5034506966670355 100.0\n",
      "0.4476119776566823 91.66666666666667\n",
      "0.39488616089026135 96.66666666666667\n",
      "0.3382947084804376 100.0\n",
      "0.3729604333639145 90.0\n",
      "0.30817096928755444 100.0\n",
      "0.29262369374434155 100.0\n"
     ]
    }
   ],
   "source": [
    "model.to(device=device)\n",
    "epochs = 10\n",
    "loss_fn = nn.CrossEntropyLoss()\n",
    "optim = torch.optim.SGD(params=model.parameters(), lr=0.1)\n",
    "for epoch in range(epochs):\n",
    "    model.train()\n",
    "    train_loss, train_acc = 0, 0\n",
    "\n",
    "    for batch, (X, y) in enumerate(greek_train):\n",
    "        X, y = X.to(device), y.to(device)\n",
    "        #X, y = X.to(next(model.parameters()).dtype), y.to(next(model.parameters()).dtype)\n",
    "        preds = model(X)\n",
    "\n",
    "        loss = loss_fn(preds, y)\n",
    "        train_loss += loss.item()\n",
    "\n",
    "        # optimizer zero grad.\n",
    "        optim.zero_grad()\n",
    "\n",
    "        # Backpropagation.\n",
    "        loss.backward()\n",
    "\n",
    "        # optimizer step.\n",
    "        optim.step()\n",
    "\n",
    "        train_acc += accuracy_fn(y_true=y, y_pred=preds.argmax(dim=1))\n",
    "\n",
    "    train_loss /= len(greek_train)\n",
    "    train_acc /= len(greek_train)\n",
    "\n",
    "    print(train_loss, train_acc)\n",
    "\n"
   ]
  },
  {
   "cell_type": "code",
   "execution_count": 3,
   "metadata": {},
   "outputs": [],
   "source": [
    "import torch\n",
    "from torch.utils.data import DataLoader\n",
    "from torchvision import datasets\n",
    "from torchvision import transforms\n",
    "\n",
    "train_data = datasets.FashionMNIST(\n",
    "        root=\"data\",\n",
    "        train=True,\n",
    "        download=True,\n",
    "        transform=transforms.ToTensor(),\n",
    "        target_transform=None\n",
    "    )\n",
    "\n",
    "test_data = datasets.FashionMNIST(\n",
    "    root=\"data\",\n",
    "    train=False,\n",
    "    download=True,\n",
    "    transform=transforms.ToTensor()\n",
    ")\n",
    "\n",
    "train_dataloader = DataLoader(train_data,\n",
    "                                batch_size=32,\n",
    "                                shuffle=False)\n",
    "\n",
    "test_dataloader = DataLoader(test_data,\n",
    "                                batch_size=32,\n",
    "                                shuffle=False)\n",
    "\n",
    "class_names = train_data.classes"
   ]
  },
  {
   "cell_type": "code",
   "execution_count": 7,
   "metadata": {},
   "outputs": [
    {
     "name": "stdout",
     "output_type": "stream",
     "text": [
      "torch.Size([32, 1, 28, 28])\n"
     ]
    }
   ],
   "source": [
    "# Check the shape of image\n",
    "image, label = next(iter(train_dataloader))\n",
    "device = torch.device(\"mps\")\n",
    "print(image.shape)"
   ]
  },
  {
   "cell_type": "code",
   "execution_count": 12,
   "metadata": {},
   "outputs": [
    {
     "data": {
      "text/plain": [
       "tinyVgg(\n",
       "  (block1): Sequential(\n",
       "    (0): Conv2d(1, 10, kernel_size=(3, 3), stride=(1, 1), padding=(1, 1))\n",
       "    (1): ReLU()\n",
       "    (2): Conv2d(10, 10, kernel_size=(3, 3), stride=(1, 1), padding=(1, 1))\n",
       "    (3): ReLU()\n",
       "    (4): MaxPool2d(kernel_size=2, stride=2, padding=0, dilation=1, ceil_mode=False)\n",
       "  )\n",
       "  (block2): Sequential(\n",
       "    (0): Conv2d(10, 10, kernel_size=(3, 3), stride=(1, 1), padding=(1, 1))\n",
       "    (1): ReLU()\n",
       "    (2): Conv2d(10, 10, kernel_size=(3, 3), stride=(1, 1), padding=(1, 1))\n",
       "    (3): ReLU()\n",
       "    (4): MaxPool2d(kernel_size=2, stride=2, padding=0, dilation=1, ceil_mode=False)\n",
       "  )\n",
       "  (classifier): Sequential(\n",
       "    (0): Flatten(start_dim=1, end_dim=-1)\n",
       "    (1): Linear(in_features=490, out_features=10, bias=True)\n",
       "  )\n",
       ")"
      ]
     },
     "execution_count": 12,
     "metadata": {},
     "output_type": "execute_result"
    }
   ],
   "source": [
    "from torch import nn\n",
    "class tinyVgg(nn.Module):\n",
    "    \"\"\"\n",
    "    Creates a tinyVgg type architecture to\n",
    "    classify images in FashionMnist dataset.\n",
    "    \"\"\"\n",
    "    def __init__(self, input_shape: int, hidden_units: int, output_shape: int):\n",
    "        super().__init__()\n",
    "        self.block1 = nn.Sequential(\n",
    "            nn.Conv2d(in_channels=input_shape,\n",
    "                      out_channels=hidden_units,\n",
    "                      kernel_size=3,\n",
    "                      stride=1,\n",
    "                      padding=1),\n",
    "            nn.ReLU(),\n",
    "            nn.Conv2d(in_channels=hidden_units,\n",
    "                      out_channels=hidden_units,\n",
    "                      kernel_size=3,\n",
    "                      stride=1,\n",
    "                      padding=1),\n",
    "            nn.ReLU(),\n",
    "            nn.MaxPool2d(kernel_size=2, stride=2)\n",
    "        )\n",
    "\n",
    "        self.block2 = nn.Sequential(\n",
    "            nn.Conv2d(hidden_units, hidden_units, 3, padding=1),\n",
    "            nn.ReLU(),\n",
    "            nn.Conv2d(hidden_units, hidden_units, 3, padding=1),\n",
    "            nn.ReLU(),\n",
    "            nn.MaxPool2d(2)\n",
    "        )\n",
    "\n",
    "        self.classifier = nn.Sequential(\n",
    "            nn.Flatten(),\n",
    "            nn.Linear(in_features=hidden_units * 7 * 7, out_features=output_shape)\n",
    "        )\n",
    "\n",
    "    def forward(self, x:torch.Tensor):\n",
    "        x = self.block1(x)\n",
    "        print(x.shape)\n",
    "        x = self.block2(x)\n",
    "        print(x.shape)\n",
    "        x = self.classifier(x)\n",
    "        print(x.shape)\n",
    "        return x\n",
    "    \n",
    "torch.manual_seed(42)\n",
    "model2 = tinyVgg(input_shape=1, hidden_units=10, output_shape=len(class_names)).to(device)\n",
    "model2"
   ]
  },
  {
   "cell_type": "code",
   "execution_count": 13,
   "metadata": {},
   "outputs": [
    {
     "name": "stdout",
     "output_type": "stream",
     "text": [
      "torch.Size([32, 10, 14, 14])\n",
      "torch.Size([32, 10, 7, 7])\n",
      "torch.Size([32, 10])\n"
     ]
    },
    {
     "data": {
      "text/plain": [
       "tensor([[ 2.4593e-02, -6.4371e-02,  5.5120e-02, -3.6006e-02, -1.3872e-02,\n",
       "          1.1296e-02, -1.4216e-03, -7.5383e-03,  2.1281e-02,  7.5776e-03],\n",
       "        [ 4.0243e-02, -6.8717e-02,  5.4178e-02, -3.7612e-02, -9.1930e-04,\n",
       "          2.0942e-02, -1.8477e-03, -1.9823e-02,  3.2062e-02,  2.2266e-03],\n",
       "        [ 3.3069e-02, -5.8044e-02,  4.5893e-02, -2.7166e-02, -1.2846e-02,\n",
       "          1.7892e-02, -6.3247e-03, -1.1802e-02,  3.0159e-02,  1.0959e-02],\n",
       "        [ 3.4936e-02, -6.1729e-02,  4.9051e-02, -3.0888e-02, -8.9981e-03,\n",
       "          1.7724e-02, -5.9958e-03, -1.4382e-02,  2.8959e-02,  7.0064e-03],\n",
       "        [ 3.7249e-02, -6.6767e-02,  5.0417e-02, -3.7338e-02, -2.1710e-03,\n",
       "          1.7135e-02,  1.8436e-04, -1.3679e-02,  2.9135e-02,  2.3956e-03],\n",
       "        [ 3.8224e-02, -6.8479e-02,  5.9885e-02, -3.9917e-02, -8.5695e-03,\n",
       "          2.0490e-02, -6.4659e-03, -1.0927e-02,  2.8594e-02,  3.9866e-03],\n",
       "        [ 3.2211e-02, -6.4533e-02,  5.5958e-02, -2.4465e-02, -1.8215e-02,\n",
       "          1.6885e-02, -4.2813e-03, -4.9754e-03,  2.3141e-02,  1.1928e-02],\n",
       "        [ 3.1867e-02, -6.5753e-02,  5.9924e-02, -3.9704e-02, -1.6899e-02,\n",
       "          1.5839e-02,  2.0201e-03, -1.1287e-02,  2.5954e-02,  2.5270e-03],\n",
       "        [ 3.0701e-02, -5.8413e-02,  4.6558e-02, -2.4441e-02, -1.4304e-02,\n",
       "          1.6043e-02, -2.5727e-03, -1.0475e-02,  2.5324e-02,  1.3392e-02],\n",
       "        [ 3.1101e-02, -6.4527e-02,  4.9553e-02, -3.0071e-02, -1.7358e-02,\n",
       "          1.2805e-02, -4.7859e-03, -9.6677e-03,  1.9249e-02,  1.4899e-02],\n",
       "        [ 3.8136e-02, -6.5325e-02,  5.3135e-02, -3.6547e-02, -7.6514e-03,\n",
       "          1.9761e-02, -2.8142e-03, -1.7735e-02,  3.2489e-02,  8.9758e-03],\n",
       "        [ 3.3019e-02, -6.9890e-02,  4.9094e-02, -3.4577e-02, -4.3029e-03,\n",
       "          1.5290e-02,  3.4395e-03, -1.8175e-02,  1.8492e-02,  6.4368e-03],\n",
       "        [ 3.1069e-02, -6.0032e-02,  5.0741e-02, -2.9195e-02, -1.2406e-02,\n",
       "          1.7989e-02, -6.3906e-03, -5.5701e-03,  2.2977e-02,  9.5601e-03],\n",
       "        [ 2.9915e-02, -6.1348e-02,  5.1555e-02, -2.0567e-02, -1.7027e-02,\n",
       "          1.5951e-02, -5.8050e-03, -8.7558e-03,  2.4078e-02,  1.6875e-02],\n",
       "        [ 2.8882e-02, -5.7459e-02,  5.0230e-02, -2.6016e-02, -1.8543e-02,\n",
       "          1.8385e-02, -6.9625e-03, -6.3512e-03,  2.4109e-02,  1.0907e-02],\n",
       "        [ 2.9655e-02, -6.5441e-02,  5.6230e-02, -3.2285e-02, -1.4288e-02,\n",
       "          1.6622e-02,  8.7085e-04, -6.7153e-03,  1.9667e-02,  9.3127e-03],\n",
       "        [ 3.7397e-02, -6.4217e-02,  5.1763e-02, -3.1305e-02, -3.1811e-03,\n",
       "          1.8502e-02, -3.0371e-05, -1.8575e-02,  2.7398e-02,  7.8871e-03],\n",
       "        [ 3.9029e-02, -6.7094e-02,  5.4941e-02, -3.5878e-02, -5.5614e-03,\n",
       "          1.9764e-02, -6.3867e-04, -1.7986e-02,  3.0187e-02,  7.7314e-03],\n",
       "        [ 3.0056e-02, -6.3439e-02,  5.4575e-02, -3.3309e-02, -1.2242e-02,\n",
       "          1.5788e-02, -5.9573e-03, -8.8734e-03,  2.4383e-02,  7.4444e-03],\n",
       "        [ 3.0992e-02, -5.5335e-02,  4.6792e-02, -2.5512e-02, -1.2228e-02,\n",
       "          1.6740e-02, -6.5897e-03, -6.8700e-03,  2.9190e-02,  1.3449e-02],\n",
       "        [ 3.9271e-02, -6.8739e-02,  5.1454e-02, -3.6154e-02, -5.7698e-03,\n",
       "          1.6626e-02, -9.5215e-04, -2.0070e-02,  3.2444e-02,  5.5805e-03],\n",
       "        [ 3.8103e-02, -6.2153e-02,  5.1515e-02, -3.3606e-02, -5.3060e-03,\n",
       "          1.6144e-02,  8.1316e-04, -1.4535e-02,  2.6390e-02,  4.2075e-03],\n",
       "        [ 3.3865e-02, -6.1043e-02,  5.0591e-02, -3.2469e-02, -5.4872e-03,\n",
       "          1.2519e-02, -2.4520e-03, -1.3691e-02,  2.2598e-02,  8.2017e-03],\n",
       "        [ 2.9716e-02, -6.6667e-02,  5.7193e-02, -3.4557e-02, -1.5798e-02,\n",
       "          1.4058e-02, -2.4183e-03, -9.1401e-03,  2.3136e-02,  8.8241e-03],\n",
       "        [ 3.6544e-02, -6.5793e-02,  5.6218e-02, -3.5118e-02, -8.8321e-03,\n",
       "          1.9073e-02, -4.8855e-03, -9.3091e-03,  2.5929e-02,  6.1544e-03],\n",
       "        [ 4.3285e-02, -6.9014e-02,  5.1379e-02, -3.0966e-02, -2.9726e-03,\n",
       "          1.8513e-02, -6.5658e-06, -1.8679e-02,  3.0208e-02,  5.6023e-03],\n",
       "        [ 3.8288e-02, -6.7605e-02,  5.7270e-02, -3.8953e-02, -7.0204e-03,\n",
       "          2.1585e-02,  2.1059e-04, -1.6200e-02,  2.5066e-02, -1.3195e-03],\n",
       "        [ 3.2959e-02, -6.6010e-02,  6.0204e-02, -3.8504e-02, -1.0838e-02,\n",
       "          1.7601e-02, -4.1663e-03, -1.2630e-02,  2.2852e-02,  3.5265e-03],\n",
       "        [ 3.2693e-02, -5.7869e-02,  4.9604e-02, -3.2754e-02, -1.2767e-02,\n",
       "          1.7767e-02, -7.1469e-03, -9.4545e-03,  2.8878e-02,  9.7623e-03],\n",
       "        [ 2.8954e-02, -6.5518e-02,  5.7075e-02, -3.6998e-02, -1.1210e-02,\n",
       "          1.7518e-02, -3.7664e-03, -8.0284e-03,  2.6660e-02,  9.1290e-03],\n",
       "        [ 2.7359e-02, -5.4293e-02,  4.6637e-02, -2.6586e-02, -1.7289e-02,\n",
       "          1.7323e-02, -6.8015e-03, -5.2801e-03,  2.4246e-02,  1.3884e-02],\n",
       "        [ 3.2802e-02, -5.9184e-02,  4.6424e-02, -2.8098e-02, -9.7234e-03,\n",
       "          1.4232e-02, -4.5033e-03, -1.3234e-02,  2.8318e-02,  9.6144e-03]],\n",
       "       device='mps:0', grad_fn=<LinearBackward0>)"
      ]
     },
     "execution_count": 13,
     "metadata": {},
     "output_type": "execute_result"
    }
   ],
   "source": [
    "sample_batch = image\n",
    "\n",
    "model2.train()\n",
    "model2(sample_batch.to(device))"
   ]
  },
  {
   "cell_type": "code",
   "execution_count": 1,
   "metadata": {},
   "outputs": [
    {
     "data": {
      "text/plain": [
       "'2.0.0.dev20230107'"
      ]
     },
     "execution_count": 1,
     "metadata": {},
     "output_type": "execute_result"
    }
   ],
   "source": [
    "import torch\n",
    "torch.__version__"
   ]
  },
  {
   "cell_type": "code",
   "execution_count": 2,
   "metadata": {},
   "outputs": [
    {
     "name": "stderr",
     "output_type": "stream",
     "text": [
      "/opt/anaconda3/envs/torch-gpu/lib/python3.8/site-packages/torchvision/models/_utils.py:208: UserWarning: The parameter 'pretrained' is deprecated since 0.13 and may be removed in the future, please use 'weights' instead.\n",
      "  warnings.warn(\n",
      "/opt/anaconda3/envs/torch-gpu/lib/python3.8/site-packages/torchvision/models/_utils.py:223: UserWarning: Arguments other than a weight enum or `None` for 'weights' are deprecated since 0.13 and may be removed in the future. The current behavior is equivalent to passing `weights=ResNet18_Weights.IMAGENET1K_V1`. You can also use `weights=ResNet18_Weights.DEFAULT` to get the most up-to-date weights.\n",
      "  warnings.warn(msg)\n",
      "Downloading: \"https://download.pytorch.org/models/resnet18-f37072fd.pth\" to /Users/jyothivishnuvardhankolla/.cache/torch/hub/checkpoints/resnet18-f37072fd.pth\n",
      "100%|██████████| 44.7M/44.7M [00:06<00:00, 7.69MB/s]"
     ]
    },
    {
     "name": "stdout",
     "output_type": "stream",
     "text": [
      "conv1.weight\n",
      "bn1.weight\n",
      "bn1.bias\n",
      "layer1.0.conv1.weight\n",
      "layer1.0.bn1.weight\n",
      "layer1.0.bn1.bias\n",
      "layer1.0.conv2.weight\n",
      "layer1.0.bn2.weight\n",
      "layer1.0.bn2.bias\n",
      "layer1.1.conv1.weight\n",
      "layer1.1.bn1.weight\n",
      "layer1.1.bn1.bias\n",
      "layer1.1.conv2.weight\n",
      "layer1.1.bn2.weight\n",
      "layer1.1.bn2.bias\n",
      "layer2.0.conv1.weight\n",
      "layer2.0.bn1.weight\n",
      "layer2.0.bn1.bias\n",
      "layer2.0.conv2.weight\n",
      "layer2.0.bn2.weight\n",
      "layer2.0.bn2.bias\n",
      "layer2.0.downsample.0.weight\n",
      "layer2.0.downsample.1.weight\n",
      "layer2.0.downsample.1.bias\n",
      "layer2.1.conv1.weight\n",
      "layer2.1.bn1.weight\n",
      "layer2.1.bn1.bias\n",
      "layer2.1.conv2.weight\n",
      "layer2.1.bn2.weight\n",
      "layer2.1.bn2.bias\n",
      "layer3.0.conv1.weight\n",
      "layer3.0.bn1.weight\n",
      "layer3.0.bn1.bias\n",
      "layer3.0.conv2.weight\n",
      "layer3.0.bn2.weight\n",
      "layer3.0.bn2.bias\n",
      "layer3.0.downsample.0.weight\n",
      "layer3.0.downsample.1.weight\n",
      "layer3.0.downsample.1.bias\n",
      "layer3.1.conv1.weight\n",
      "layer3.1.bn1.weight\n",
      "layer3.1.bn1.bias\n",
      "layer3.1.conv2.weight\n",
      "layer3.1.bn2.weight\n",
      "layer3.1.bn2.bias\n",
      "layer4.0.conv1.weight\n",
      "layer4.0.bn1.weight\n",
      "layer4.0.bn1.bias\n",
      "layer4.0.conv2.weight\n",
      "layer4.0.bn2.weight\n",
      "layer4.0.bn2.bias\n",
      "layer4.0.downsample.0.weight\n",
      "layer4.0.downsample.1.weight\n",
      "layer4.0.downsample.1.bias\n",
      "layer4.1.conv1.weight\n",
      "layer4.1.bn1.weight\n",
      "layer4.1.bn1.bias\n",
      "layer4.1.conv2.weight\n",
      "layer4.1.bn2.weight\n",
      "layer4.1.bn2.bias\n",
      "fc.weight\n",
      "fc.bias\n"
     ]
    },
    {
     "name": "stderr",
     "output_type": "stream",
     "text": [
      "\n"
     ]
    }
   ],
   "source": [
    "from torchvision import models\n",
    "\n",
    "model_resnet = models.resnet18(pretrained=True)\n",
    "for name, param in model_resnet.named_parameters():\n",
    "    print(name)"
   ]
  },
  {
   "cell_type": "code",
   "execution_count": 20,
   "metadata": {},
   "outputs": [
    {
     "data": {
      "text/plain": [
       "torch.Size([64, 3, 7, 7])"
      ]
     },
     "execution_count": 20,
     "metadata": {},
     "output_type": "execute_result"
    }
   ],
   "source": [
    "conv1_weights = model_resnet.state_dict()['conv1.weight']\n",
    "conv1_weights.shape"
   ]
  },
  {
   "cell_type": "code",
   "execution_count": 30,
   "metadata": {},
   "outputs": [
    {
     "name": "stderr",
     "output_type": "stream",
     "text": [
      "Clipping input data to the valid range for imshow with RGB data ([0..1] for floats or [0..255] for integers).\n",
      "Clipping input data to the valid range for imshow with RGB data ([0..1] for floats or [0..255] for integers).\n",
      "Clipping input data to the valid range for imshow with RGB data ([0..1] for floats or [0..255] for integers).\n",
      "Clipping input data to the valid range for imshow with RGB data ([0..1] for floats or [0..255] for integers).\n",
      "Clipping input data to the valid range for imshow with RGB data ([0..1] for floats or [0..255] for integers).\n",
      "Clipping input data to the valid range for imshow with RGB data ([0..1] for floats or [0..255] for integers).\n",
      "Clipping input data to the valid range for imshow with RGB data ([0..1] for floats or [0..255] for integers).\n",
      "Clipping input data to the valid range for imshow with RGB data ([0..1] for floats or [0..255] for integers).\n",
      "Clipping input data to the valid range for imshow with RGB data ([0..1] for floats or [0..255] for integers).\n",
      "Clipping input data to the valid range for imshow with RGB data ([0..1] for floats or [0..255] for integers).\n",
      "Clipping input data to the valid range for imshow with RGB data ([0..1] for floats or [0..255] for integers).\n",
      "Clipping input data to the valid range for imshow with RGB data ([0..1] for floats or [0..255] for integers).\n"
     ]
    },
    {
     "data": {
      "image/png": "[encoded data removed]",
      "text/plain": [
       "<Figure size 800x800 with 12 Axes>"
      ]
     },
     "metadata": {},
     "output_type": "display_data"
    }
   ],
   "source": [
    "import matplotlib.pyplot as plt\n",
    "\n",
    "fig = plt.figure(figsize=(8, 8))\n",
    "rows, cols = 3, 4\n",
    "for i in range(len(conv1_weights)):\n",
    "    if i == 12:\n",
    "        break\n",
    "    img = conv1_weights[i].permute(1, 2, 0)\n",
    "    fig.add_subplot(rows, cols, i + 1)\n",
    "    plt.imshow(img)\n",
    "    plt.title(f\"Figure {i}\")\n",
    "    plt.axis('off')\n",
    "\n",
    "plt.show()"
   ]
  },
  {
   "cell_type": "code",
   "execution_count": 33,
   "metadata": {},
   "outputs": [
    {
     "data": {
      "image/png": "[encoded data removed]",
      "text/plain": [
       "<Figure size 800x800 with 12 Axes>"
      ]
     },
     "metadata": {},
     "output_type": "display_data"
    }
   ],
   "source": [
    "grey_scale_filters = []\n",
    "fig = plt.figure(figsize=(8, 8))\n",
    "rows, cols = 3, 4\n",
    "for i in range(len(conv1_weights)):\n",
    "    if i == 12:\n",
    "        break\n",
    "    img = conv1_weights[i]\n",
    "    grey_scale_img = torch.mean(img, dim=0, keepdim=True)\n",
    "    fig.add_subplot(rows, cols, i + 1)\n",
    "    plt.imshow(grey_scale_img.squeeze())\n",
    "    plt.title(f\"Figure {i}\")\n",
    "    plt.axis('off')\n",
    "\n",
    "\n",
    "test_sample = conv1_weights[0]\n",
    "grey_scale = torch.mean(test_sample, dim=0, keepdim=True)\n",
    "plt.imshow(grey_scale.squeeze())\n",
    "plt.show()"
   ]
  },
  {
   "cell_type": "code",
   "execution_count": 38,
   "metadata": {},
   "outputs": [
    {
     "name": "stdout",
     "output_type": "stream",
     "text": [
      "(1, 7, 7) (1, 28, 28)\n",
      "(1, 7, 7) (1, 28, 28)\n",
      "(1, 7, 7) (1, 28, 28)\n",
      "(1, 7, 7) (1, 28, 28)\n",
      "(1, 7, 7) (1, 28, 28)\n",
      "(1, 7, 7) (1, 28, 28)\n",
      "(1, 7, 7) (1, 28, 28)\n",
      "(1, 7, 7) (1, 28, 28)\n",
      "(1, 7, 7) (1, 28, 28)\n",
      "(1, 7, 7) (1, 28, 28)\n",
      "(1, 7, 7) (1, 28, 28)\n",
      "(1, 7, 7) (1, 28, 28)\n"
     ]
    },
    {
     "data": {
      "image/png": "[encoded data removed]",
      "text/plain": [
       "<Figure size 800x800 with 12 Axes>"
      ]
     },
     "metadata": {},
     "output_type": "display_data"
    }
   ],
   "source": [
    "# Apply the filters onto sample image in Mnist\n",
    "\n",
    "# Show the effect of the filters.\n",
    "import cv2\n",
    "from dataloader import create_dataloaders\n",
    "train_data, test_data, class_names = create_dataloaders(32)\n",
    "\n",
    "image, lable = next(iter(train_data))\n",
    "image = image[0].numpy()\n",
    "\n",
    "fig = plt.figure(figsize=(8, 8))\n",
    "rows,  cols = 3, 4\n",
    "for i in range(len(conv1_weights)):\n",
    "    if i == 12:\n",
    "        break\n",
    "    img = conv1_weights[i]\n",
    "    grey_scale_img = torch.mean(img, dim=0, keepdim=True).numpy()\n",
    "    print(grey_scale_img.shape, image.shape)\n",
    "    filter_img = cv2.filter2D(image[0], -1, grey_scale_img[0])\n",
    "    fig.add_subplot(rows, cols, i + 1)\n",
    "    plt.imshow(filter_img, cmap='gray')\n",
    "\n",
    "plt.show()"
   ]
  }
 ],
 "metadata": {
  "kernelspec": {
   "display_name": "torch-gpu",
   "language": "python",
   "name": "python3"
  },
  "language_info": {
   "codemirror_mode": {
    "name": "ipython",
    "version": 3
   },
   "file_extension": ".py",
   "mimetype": "text/x-python",
   "name": "python",
   "nbconvert_exporter": "python",
   "pygments_lexer": "ipython3",
   "version": "3.8.15"
  },
  "orig_nbformat": 4
 },
 "nbformat": 4,
 "nbformat_minor": 2
}
